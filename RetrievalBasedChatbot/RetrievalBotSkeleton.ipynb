{
 "cells": [
  {
   "cell_type": "code",
   "execution_count": null,
   "metadata": {},
   "outputs": [],
   "source": [
    "from user_functions import preprocess, compare_overlap, pos_tag, extract_nouns, compute_similarity\n",
    "from collections import Counter\n",
    "import spacy\n",
    "word2vec = spacy.load('en')\n",
    "\n",
    "blank_spot = \"\"\n",
    "\n",
    "response_a = \"\"\n",
    "response_b = \"\"\n",
    "response_c = \"\"\n",
    "\n",
    "responses= [response_a, response_b, response_c]\n",
    "\n",
    "class ChatBot:\n",
    "    def find_intent_match(self, responses, user_message):\n",
    "        bow_user_message = Counter(preprocess(user_message))\n",
    "        processed_responses = [Counter(preprocess(response)) for response in responses]\n",
    "        similarity_list = [compare_overlap(doc, bow_user_message) for doc in processed_responses]\n",
    "        response_index = similarity_list.index(max(similarity_list))\n",
    "        return responses[response_index]\n",
    "\n",
    "    def find_entities(self, user_message):\n",
    "        tagged_user_message = pos_tag(preprocess(user_message))\n",
    "        message_nouns = extract_nouns(tagged_user_message)\n",
    "        \n",
    "        tokens = word2vec(\" \".join(message_nouns))\n",
    "        category = word2vec(blank_spot)\n",
    "        word2vec_result = compute_similarity(tokens, category)\n",
    "        word2vec_result.sort(key=lambda x: x[2])\n",
    "        return word2vec_result[-1][0]\n",
    "\n",
    "    def respond(self,user_message):\n",
    "        best_response = self.find_intent_match(responses, user_message)\n",
    "        entity = self.find_entities(user_message)\n",
    "        print(best_response.format(entity))\n",
    "        print(\"I hope I was able to help. See ya around!\")\n",
    "        return True\n",
    "    \n",
    "    def chat(self):\n",
    "        user_message = input(\"Hey! I'm a bot. Ask me your questions! \")\n",
    "        self.respond(user_message)\n",
    "\n",
    "ChatBot = ChatBot()\n",
    "ChatBot.chat()\n",
    "\n",
    "    "
   ]
  }
 ],
 "metadata": {
  "language_info": {
   "name": "python"
  }
 },
 "nbformat": 4,
 "nbformat_minor": 2
}
